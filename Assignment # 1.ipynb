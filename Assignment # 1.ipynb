{
 "cells": [
  {
   "cell_type": "code",
   "execution_count": 1,
   "id": "4fb751b0",
   "metadata": {},
   "outputs": [
    {
     "name": "stdout",
     "output_type": "stream",
     "text": [
      "Twinkle, twinkle, little star,\n",
      "         How I wonder, what you are!\n",
      "                 Up above the world so high,\n",
      "                 Like a diamond in the sky.\n",
      "Twinkle, twinkle, little star,\n",
      "         How I wonder, what you are!\n"
     ]
    }
   ],
   "source": [
    "a=(\"Twinkle, twinkle, little star,\")\n",
    "print(a)\n",
    "b=(\"         How I wonder, what you are!\")\n",
    "print(b)\n",
    "c=(\"                 Up above the world so high,\")\n",
    "print(c)\n",
    "d=(\"                 Like a diamond in the sky.\")\n",
    "print(d)\n",
    "e=(\"Twinkle, twinkle, little star,\")\n",
    "print(e)\n",
    "f=(\"         How I wonder, what you are!\")\n",
    "print(f)"
   ]
  },
  {
   "cell_type": "code",
   "execution_count": 2,
   "id": "49753fe3",
   "metadata": {},
   "outputs": [
    {
     "name": "stdout",
     "output_type": "stream",
     "text": [
      "My python version is  3.9.7 (default, Sep 16 2021, 16:59:28) [MSC v.1916 64 bit (AMD64)]\n"
     ]
    }
   ],
   "source": [
    "import sys\n",
    "print(\"My python version is \" ,sys.version)"
   ]
  },
  {
   "cell_type": "code",
   "execution_count": 3,
   "id": "ea20bd14",
   "metadata": {},
   "outputs": [
    {
     "name": "stdout",
     "output_type": "stream",
     "text": [
      "Today's Date: 31-December-2021\n",
      "Current Time: 11:51:54\n"
     ]
    }
   ],
   "source": [
    "from datetime import datetime\n",
    "today = datetime.today()\n",
    "print(\"Today's Date:\",today.strftime('%d-%B-%Y'))\n",
    "print (\"Current Time:\",today.strftime('%H:%M:%S'))"
   ]
  },
  {
   "cell_type": "code",
   "execution_count": 5,
   "id": "2c3080d9",
   "metadata": {},
   "outputs": [
    {
     "name": "stdout",
     "output_type": "stream",
     "text": [
      "enter the radius of circle = 2\n",
      "Area = 12.56\n"
     ]
    }
   ],
   "source": [
    "radius= int(input(\"Enter the radius of circle = \"))\n",
    "pi=(3.14)\n",
    "area=pi*radius*radius\n",
    "print(\"Area =\" ,area)"
   ]
  },
  {
   "cell_type": "code",
   "execution_count": 6,
   "id": "cc60f772",
   "metadata": {},
   "outputs": [
    {
     "name": "stdout",
     "output_type": "stream",
     "text": [
      "Input your First Name : Manahil\n",
      "Input your Last Name : Babar\n",
      "Hello  Babar Manahil\n"
     ]
    }
   ],
   "source": [
    "first_name = input(\"Input your First Name : \")\n",
    "last_name = input(\"Input your Last Name : \")\n",
    "print (\"Hello  \" + last_name + \" \" + first_name)"
   ]
  },
  {
   "cell_type": "code",
   "execution_count": 9,
   "id": "d7bc17eb",
   "metadata": {},
   "outputs": [
    {
     "name": "stdout",
     "output_type": "stream",
     "text": [
      "Enter your Value = 17\n",
      "Enter your Value = 8\n",
      "Sum = 25\n"
     ]
    }
   ],
   "source": [
    "a = int(input(\"Enter your Value = \"))\n",
    "b = int(input(\"Enter your Value = \"))\n",
    "sum = a+b\n",
    "print(\"Sum =\" , sum)"
   ]
  },
  {
   "cell_type": "code",
   "execution_count": null,
   "id": "49d6580d",
   "metadata": {},
   "outputs": [],
   "source": []
  }
 ],
 "metadata": {
  "kernelspec": {
   "display_name": "Python 3 (ipykernel)",
   "language": "python",
   "name": "python3"
  },
  "language_info": {
   "codemirror_mode": {
    "name": "ipython",
    "version": 3
   },
   "file_extension": ".py",
   "mimetype": "text/x-python",
   "name": "python",
   "nbconvert_exporter": "python",
   "pygments_lexer": "ipython3",
   "version": "3.9.7"
  }
 },
 "nbformat": 4,
 "nbformat_minor": 5
}
